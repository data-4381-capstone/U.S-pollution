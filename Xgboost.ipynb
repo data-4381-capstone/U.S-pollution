{
  "nbformat": 4,
  "nbformat_minor": 0,
  "metadata": {
    "colab": {
      "provenance": []
    },
    "kernelspec": {
      "name": "python3",
      "display_name": "Python 3"
    },
    "language_info": {
      "name": "python"
    }
  },
  "cells": [
    {
      "cell_type": "code",
      "execution_count": 1,
      "metadata": {
        "id": "DHMG1Xd95MLb"
      },
      "outputs": [],
      "source": [
        "import pandas as pd\n",
        "from sklearn.model_selection import train_test_split, StratifiedKFold, GridSearchCV\n",
        "from xgboost import XGBClassifier\n",
        "from sklearn.metrics import classification_report, confusion_matrix, roc_auc_score\n",
        "import matplotlib.pyplot as plt\n",
        "import seaborn as sns\n",
        "\n",
        "cleaned_data= pd.read_csv(\"/content/Cleaned_Feature-Engineered_Pollution_Data.csv\")"
      ]
    },
    {
      "cell_type": "code",
      "source": [
        "# Separate features and target\n",
        "X = cleaned_data.drop(['Pollution_Severity'], axis=1)\n",
        "y = cleaned_data['Pollution_Severity']\n",
        "\n",
        "# Stratified Train-Test Split\n",
        "X_train, X_test, y_train, y_test = train_test_split(\n",
        "    X, y, test_size=0.2, stratify=y, random_state=42\n",
        ")\n",
        "\n",
        "# Ensure categorical features are numeric (already encoded)\n",
        "print(\"X_train shape:\", X_train.shape)\n",
        "print(\"y_train distribution:\\n\", y_train.value_counts(normalize=True))\n"
      ],
      "metadata": {
        "colab": {
          "base_uri": "https://localhost:8080/"
        },
        "id": "-dP1V7uw5338",
        "outputId": "ce2aa16d-3cec-4480-9019-90f265a2dbbe"
      },
      "execution_count": 2,
      "outputs": [
        {
          "output_type": "stream",
          "name": "stdout",
          "text": [
            "X_train shape: (160995, 14)\n",
            "y_train distribution:\n",
            " Pollution_Severity\n",
            "Low          0.823386\n",
            "Moderate     0.136812\n",
            "High         0.031262\n",
            "Very High    0.008541\n",
            "Name: proportion, dtype: float64\n"
          ]
        }
      ]
    },
    {
      "cell_type": "code",
      "source": [
        "# Initialize the XGBoost Classifier\n",
        "xgb = XGBClassifier(\n",
        "    objective='multi:softmax',  # Multiclass classification\n",
        "    num_class=len(y.unique()),  # Number of classes\n",
        "    random_state=42\n",
        ")\n",
        "\n",
        "# Define hyperparameter grid\n",
        "param_grid = {\n",
        "    'n_estimators': [50, 100, 200],\n",
        "    'max_depth': [3, 5, 7],\n",
        "    'learning_rate': [0.01, 0.1, 0.2],\n",
        "    'subsample': [0.7, 0.8, 1.0],\n",
        "    'colsample_bytree': [0.7, 0.8, 1.0],\n",
        "    'scale_pos_weight': [1, 5, 10]  # For class imbalance\n",
        "}\n"
      ],
      "metadata": {
        "id": "TPoxJJHg5-Ud"
      },
      "execution_count": 3,
      "outputs": []
    },
    {
      "cell_type": "code",
      "source": [
        "# Set up StratifiedKFold for class balance preservation\n",
        "skf = StratifiedKFold(n_splits=5, shuffle=True, random_state=42)\n",
        "\n",
        "# GridSearchCV for hyperparameter tuning\n",
        "grid_search = GridSearchCV(\n",
        "    estimator=xgb,\n",
        "    param_grid=param_grid,\n",
        "    scoring='f1_weighted',  # Focus on balanced performance\n",
        "    cv=skf,\n",
        "    verbose=1,\n",
        "    n_jobs=-1\n",
        ")\n",
        "# Perform the grid search\n",
        "grid_search.fit(X_train, y_train)\n",
        "\n",
        "# Best parameters and model\n",
        "print(\"Best Parameters:\", grid_search.best_params_)\n",
        "best_model = grid_search.best_estimator_\n"
      ],
      "metadata": {
        "id": "N2ryJFS66Ggx"
      },
      "execution_count": null,
      "outputs": []
    },
    {
      "cell_type": "code",
      "source": [
        "y_pred = best_model.predict(X_test)\n",
        "\n",
        "# Classification Report\n",
        "print(\"Classification Report:\")\n",
        "print(classification_report(y_test, y_pred))\n",
        "\n",
        "# Confusion Matrix\n",
        "conf_matrix = confusion_matrix(y_test, y_pred)\n",
        "plt.figure(figsize=(8, 6))\n",
        "sns.heatmap(conf_matrix, annot=True, fmt='d', cmap='Blues', xticklabels=best_model.classes_, yticklabels=best_model.classes_)\n",
        "plt.title(\"Confusion Matrix\")\n",
        "plt.xlabel(\"Predicted\")\n",
        "plt.ylabel(\"Actual\")\n",
        "\n"
      ],
      "metadata": {
        "id": "vCwHTVnM6LuP"
      },
      "execution_count": null,
      "outputs": []
    },
    {
      "cell_type": "code",
      "source": [
        "# Predict probabilities for multiclass ROC\n",
        "if len(best_model.classes_) > 2:\n",
        "    from sklearn.preprocessing import label_binarize\n",
        "    y_test_bin = label_binarize(y_test, classes=best_model.classes_)\n",
        "    y_pred_probs = best_model.predict_proba(X_test)\n",
        "\n",
        "    # Compute ROC Curve and AUC for each class\n",
        "    from sklearn.metrics import roc_curve, auc\n",
        "    for i, class_name in enumerate(best_model.classes_):\n",
        "        fpr, tpr, _ = roc_curve(y_test_bin[:, i], y_pred_probs[:, i])\n",
        "        roc_auc = auc(fpr, tpr)\n",
        "        plt.plot(fpr, tpr, label=f'{class_name} (AUC = {roc_auc:.2f})')\n",
        "\n",
        "    plt.plot([0, 1], [0, 1], color='gray', linestyle='--')\n",
        "    plt.xlabel(\"False Positive Rate\")\n",
        "    plt.ylabel(\"True Positive Rate\")\n",
        "    plt.title(\"ROC Curve for Each Class\")\n",
        "    plt.legend()\n",
        "    plt.show()\n"
      ],
      "metadata": {
        "id": "8iWikAwc8Pjl"
      },
      "execution_count": null,
      "outputs": []
    }
  ]
}